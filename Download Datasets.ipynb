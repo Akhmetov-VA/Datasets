{
 "cells": [
  {
   "cell_type": "markdown",
   "metadata": {},
   "source": [
    "# Datasets"
   ]
  },
  {
   "cell_type": "code",
   "execution_count": 1,
   "metadata": {},
   "outputs": [],
   "source": [
    "import os\n",
    "from os.path import join\n",
    "\n",
    "import numpy as np\n",
    "import pandas as pd\n",
    "\n",
    "from sklearn import datasets"
   ]
  },
  {
   "cell_type": "code",
   "execution_count": 6,
   "metadata": {},
   "outputs": [],
   "source": [
    "def check_mkdir(path):\n",
    "    if not os.path.exists(path):\n",
    "        os.makedirs(path)\n",
    "    else:\n",
    "        print(f'{path} - already exist')"
   ]
  },
  {
   "cell_type": "code",
   "execution_count": 8,
   "metadata": {},
   "outputs": [],
   "source": [
    "base_path = ''"
   ]
  },
  {
   "cell_type": "markdown",
   "metadata": {},
   "source": [
    "## sklearn datasets"
   ]
  },
  {
   "cell_type": "code",
   "execution_count": 29,
   "metadata": {},
   "outputs": [],
   "source": [
    "from sklearn.model_selection import train_test_split"
   ]
  },
  {
   "cell_type": "code",
   "execution_count": 30,
   "metadata": {},
   "outputs": [],
   "source": [
    "sklearn_path = join(base_path, 'sklearn')"
   ]
  },
  {
   "cell_type": "code",
   "execution_count": 31,
   "metadata": {},
   "outputs": [],
   "source": [
    "dataset_path_pairs = [\n",
    "    (join(sklearn_path, 'breast_cancer'), datasets.load_breast_cancer(), 'breast_cancer.csv') ,\n",
    "    (join(sklearn_path, 'boston'), datasets.load_boston(), 'boston.csv'),\n",
    "    (join(sklearn_path, 'diabetes'), datasets.load_diabetes(), 'diabetes.csv'),\n",
    "    (join(sklearn_path, 'iris'), datasets.load_iris(), 'iris.csv'),\n",
    "    (join(sklearn_path, 'wine'), datasets.load_wine(), 'wine.csv'),\n",
    "]"
   ]
  },
  {
   "cell_type": "code",
   "execution_count": 32,
   "metadata": {},
   "outputs": [
    {
     "name": "stdout",
     "output_type": "stream",
     "text": [
      "sklearn/breast_cancer - already exist\n",
      "sklearn/breast_cancer\n",
      "sklearn/boston - already exist\n",
      "sklearn/boston\n",
      "sklearn/diabetes - already exist\n",
      "sklearn/diabetes\n",
      "sklearn/iris - already exist\n",
      "sklearn/iris\n",
      "sklearn/wine - already exist\n",
      "sklearn/wine\n"
     ]
    }
   ],
   "source": [
    "for path, data, filename in dataset_path_pairs:\n",
    "    check_mkdir(path)\n",
    "    \n",
    "    X_train, X_test, y_train, y_test = train_test_split(data['data'], data['target'], random_state=42)\n",
    "\n",
    "    df_train = pd.DataFrame(X_train, columns=data['feature_names'])\n",
    "    df_train['target'] = y_train\n",
    "\n",
    "    df_test = pd.DataFrame(X_test, columns=data['feature_names'])\n",
    "    df_test['target'] = y_test\n",
    "\n",
    "    df_train.to_csv(join(path, 'train_' + filename), index=False)\n",
    "    df_test.to_csv(join(path, 'test_' + filename), index=False)\n",
    "\n",
    "    with open(join(path, 'Readme.md'), 'w') as f:\n",
    "        f.write(data['DESCR'])\n",
    "    \n",
    "    print(path)\n"
   ]
  },
  {
   "cell_type": "markdown",
   "metadata": {},
   "source": [
    "## OpenML datasets"
   ]
  },
  {
   "cell_type": "code",
   "execution_count": 33,
   "metadata": {},
   "outputs": [],
   "source": [
    "openml_path = join(base_path, 'openml')"
   ]
  },
  {
   "cell_type": "markdown",
   "metadata": {},
   "source": [
    "### BinaryClassification"
   ]
  },
  {
   "cell_type": "code",
   "execution_count": 36,
   "metadata": {},
   "outputs": [],
   "source": [
    "bin_class_dataset_names = [\n",
    "    'credit-g', \n",
    "    'blood-transfusion-service-center', \n",
    "    'monks-problems-2',\n",
    "    'tic-tac-toe',\n",
    "    'monks-problems-1',\n",
    "    'steel-plates-fault',\n",
    "    'kr-vs-kp',\n",
    "    'qsar-biodeg',\n",
    "    'wdbc',\n",
    "    'phoneme',\n",
    "    'diabetes',\n",
    "    'ozone-level-8hr',\n",
    "    'hill-valley',\n",
    "    'kc1',\n",
    "    'kc2',\n",
    "    'eeg-eye-state',\n",
    "    'climate-model-simulation-crashes',\n",
    "    'spambase',\n",
    "    'ilpd',\n",
    "    'banknote-authentication',\n",
    "    'electricity',\n",
    "    'madelon',\n",
    "    'gina_agnostic',\n",
    "    'bank-marketing',\n",
    "    'Click_prediction_small',\n",
    "    'PhishingWebsites',\n",
    "    'Bioresponse',\n",
    "    'Amazon_employee_access',\n",
    "    'SpeedDating',\n",
    "    'credit-approval',\n",
    "    'irish',\n",
    "    'churn',\n",
    "    \n",
    "]"
   ]
  },
  {
   "cell_type": "code",
   "execution_count": 37,
   "metadata": {},
   "outputs": [],
   "source": [
    "bin_class_path = join(openml_path, 'binary_classification')"
   ]
  },
  {
   "cell_type": "code",
   "execution_count": 38,
   "metadata": {},
   "outputs": [
    {
     "name": "stderr",
     "output_type": "stream",
     "text": [
      "/Users/vadimakhmetov/opt/anaconda3/lib/python3.8/site-packages/sklearn/datasets/_openml.py:417: UserWarning: Multiple active versions of the dataset matching the name credit-g exist. Versions may be fundamentally different, returning version 1.\n",
      "  warn(\n",
      "/Users/vadimakhmetov/opt/anaconda3/lib/python3.8/site-packages/sklearn/datasets/_openml.py:417: UserWarning: Multiple active versions of the dataset matching the name steel-plates-fault exist. Versions may be fundamentally different, returning version 1.\n",
      "  warn(\n"
     ]
    },
    {
     "name": "stdout",
     "output_type": "stream",
     "text": [
      "openml/binary_classification/credit-g\n",
      "openml/binary_classification/blood-transfusion-service-center\n",
      "openml/binary_classification/monks-problems-2\n",
      "openml/binary_classification/tic-tac-toe\n",
      "openml/binary_classification/monks-problems-1\n",
      "openml/binary_classification/steel-plates-fault\n",
      "openml/binary_classification/kr-vs-kp\n",
      "openml/binary_classification/qsar-biodeg\n",
      "openml/binary_classification/wdbc\n"
     ]
    },
    {
     "name": "stderr",
     "output_type": "stream",
     "text": [
      "/Users/vadimakhmetov/opt/anaconda3/lib/python3.8/site-packages/sklearn/datasets/_openml.py:417: UserWarning: Multiple active versions of the dataset matching the name phoneme exist. Versions may be fundamentally different, returning version 1.\n",
      "  warn(\n",
      "/Users/vadimakhmetov/opt/anaconda3/lib/python3.8/site-packages/sklearn/datasets/_openml.py:417: UserWarning: Multiple active versions of the dataset matching the name diabetes exist. Versions may be fundamentally different, returning version 1.\n",
      "  warn(\n"
     ]
    },
    {
     "name": "stdout",
     "output_type": "stream",
     "text": [
      "openml/binary_classification/phoneme\n",
      "openml/binary_classification/diabetes\n",
      "openml/binary_classification/ozone-level-8hr\n"
     ]
    },
    {
     "name": "stderr",
     "output_type": "stream",
     "text": [
      "/Users/vadimakhmetov/opt/anaconda3/lib/python3.8/site-packages/sklearn/datasets/_openml.py:417: UserWarning: Multiple active versions of the dataset matching the name hill-valley exist. Versions may be fundamentally different, returning version 1.\n",
      "  warn(\n"
     ]
    },
    {
     "name": "stdout",
     "output_type": "stream",
     "text": [
      "openml/binary_classification/hill-valley\n",
      "openml/binary_classification/kc1\n",
      "openml/binary_classification/kc2\n",
      "openml/binary_classification/eeg-eye-state\n",
      "openml/binary_classification/climate-model-simulation-crashes\n"
     ]
    },
    {
     "name": "stderr",
     "output_type": "stream",
     "text": [
      "/Users/vadimakhmetov/opt/anaconda3/lib/python3.8/site-packages/sklearn/datasets/_openml.py:417: UserWarning: Multiple active versions of the dataset matching the name climate-model-simulation-crashes exist. Versions may be fundamentally different, returning version 1.\n",
      "  warn(\n"
     ]
    },
    {
     "name": "stdout",
     "output_type": "stream",
     "text": [
      "openml/binary_classification/spambase\n",
      "openml/binary_classification/ilpd\n",
      "openml/binary_classification/banknote-authentication\n"
     ]
    },
    {
     "name": "stderr",
     "output_type": "stream",
     "text": [
      "/Users/vadimakhmetov/opt/anaconda3/lib/python3.8/site-packages/sklearn/datasets/_openml.py:417: UserWarning: Multiple active versions of the dataset matching the name ilpd exist. Versions may be fundamentally different, returning version 1.\n",
      "  warn(\n",
      "/Users/vadimakhmetov/opt/anaconda3/lib/python3.8/site-packages/sklearn/datasets/_openml.py:417: UserWarning: Multiple active versions of the dataset matching the name electricity exist. Versions may be fundamentally different, returning version 1.\n",
      "  warn(\n"
     ]
    },
    {
     "name": "stdout",
     "output_type": "stream",
     "text": [
      "openml/binary_classification/electricity\n",
      "openml/binary_classification/madelon\n",
      "openml/binary_classification/gina_agnostic\n"
     ]
    },
    {
     "name": "stderr",
     "output_type": "stream",
     "text": [
      "/Users/vadimakhmetov/opt/anaconda3/lib/python3.8/site-packages/sklearn/datasets/_openml.py:417: UserWarning: Multiple active versions of the dataset matching the name bank-marketing exist. Versions may be fundamentally different, returning version 1.\n",
      "  warn(\n"
     ]
    },
    {
     "name": "stdout",
     "output_type": "stream",
     "text": [
      "openml/binary_classification/bank-marketing\n"
     ]
    },
    {
     "name": "stderr",
     "output_type": "stream",
     "text": [
      "/Users/vadimakhmetov/opt/anaconda3/lib/python3.8/site-packages/sklearn/datasets/_openml.py:417: UserWarning: Multiple active versions of the dataset matching the name click_prediction_small exist. Versions may be fundamentally different, returning version 1.\n",
      "  warn(\n"
     ]
    },
    {
     "name": "stdout",
     "output_type": "stream",
     "text": [
      "openml/binary_classification/Click_prediction_small\n",
      "openml/binary_classification/PhishingWebsites\n",
      "openml/binary_classification/Bioresponse\n"
     ]
    },
    {
     "name": "stderr",
     "output_type": "stream",
     "text": [
      "/Users/vadimakhmetov/opt/anaconda3/lib/python3.8/site-packages/sklearn/datasets/_openml.py:417: UserWarning: Multiple active versions of the dataset matching the name amazon_employee_access exist. Versions may be fundamentally different, returning version 1.\n",
      "  warn(\n"
     ]
    },
    {
     "name": "stdout",
     "output_type": "stream",
     "text": [
      "openml/binary_classification/Amazon_employee_access\n"
     ]
    },
    {
     "name": "stderr",
     "output_type": "stream",
     "text": [
      "/Users/vadimakhmetov/opt/anaconda3/lib/python3.8/site-packages/sklearn/datasets/_openml.py:417: UserWarning: Multiple active versions of the dataset matching the name speeddating exist. Versions may be fundamentally different, returning version 1.\n",
      "  warn(\n"
     ]
    },
    {
     "name": "stdout",
     "output_type": "stream",
     "text": [
      "openml/binary_classification/SpeedDating\n",
      "openml/binary_classification/credit-approval\n",
      "openml/binary_classification/irish\n",
      "openml/binary_classification/churn\n"
     ]
    }
   ],
   "source": [
    "for data_name in bin_class_dataset_names:\n",
    "    data = datasets.fetch_openml(data_name)\n",
    "    \n",
    "    path = join(bin_class_path, data_name)\n",
    "    filename = data_name + '.csv'\n",
    "\n",
    "    check_mkdir(path)\n",
    "    \n",
    "    X_train, X_test, y_train, y_test = train_test_split(data['data'], data['target'], random_state=42)\n",
    "\n",
    "    df_train = pd.DataFrame(X_train, columns=data['feature_names'])\n",
    "    df_train['target'] = y_train\n",
    "\n",
    "    df_test = pd.DataFrame(X_test, columns=data['feature_names'])\n",
    "    df_test['target'] = y_test\n",
    "\n",
    "    df_train.to_csv(join(path, 'train_' + filename), index=False)\n",
    "    df_test.to_csv(join(path, 'test_' + filename), index=False)\n",
    "\n",
    "    with open(join(path, 'Readme.md'), 'w') as f:\n",
    "        f.write(data['DESCR'])\n",
    "    \n",
    "    print(path)"
   ]
  },
  {
   "cell_type": "code",
   "execution_count": 21,
   "metadata": {},
   "outputs": [
    {
     "name": "stderr",
     "output_type": "stream",
     "text": [
      "/Users/vadimakhmetov/opt/anaconda3/lib/python3.8/site-packages/sklearn/datasets/_openml.py:417: UserWarning: Multiple active versions of the dataset matching the name credit-g exist. Versions may be fundamentally different, returning version 1.\n",
      "  warn(\n",
      "/Users/vadimakhmetov/opt/anaconda3/lib/python3.8/site-packages/sklearn/datasets/_openml.py:417: UserWarning: Multiple active versions of the dataset matching the name steel-plates-fault exist. Versions may be fundamentally different, returning version 1.\n",
      "  warn(\n"
     ]
    },
    {
     "name": "stdout",
     "output_type": "stream",
     "text": [
      "0\n",
      "\n",
      "1\n",
      "\n",
      "2\n",
      "\n",
      "3\n",
      "\n",
      "4\n",
      "\n",
      "5\n",
      "\n",
      "6\n",
      "\n",
      "7\n",
      "\n",
      "8\n",
      "\n",
      "9\n",
      "\n",
      "10\n",
      "\n"
     ]
    },
    {
     "name": "stderr",
     "output_type": "stream",
     "text": [
      "/Users/vadimakhmetov/opt/anaconda3/lib/python3.8/site-packages/sklearn/datasets/_openml.py:417: UserWarning: Multiple active versions of the dataset matching the name phoneme exist. Versions may be fundamentally different, returning version 1.\n",
      "  warn(\n",
      "/Users/vadimakhmetov/opt/anaconda3/lib/python3.8/site-packages/sklearn/datasets/_openml.py:417: UserWarning: Multiple active versions of the dataset matching the name diabetes exist. Versions may be fundamentally different, returning version 1.\n",
      "  warn(\n",
      "/Users/vadimakhmetov/opt/anaconda3/lib/python3.8/site-packages/sklearn/datasets/_openml.py:417: UserWarning: Multiple active versions of the dataset matching the name hill-valley exist. Versions may be fundamentally different, returning version 1.\n",
      "  warn(\n"
     ]
    },
    {
     "name": "stdout",
     "output_type": "stream",
     "text": [
      "11\n",
      "\n",
      "12\n",
      "\n",
      "13\n",
      "\n",
      "14\n",
      "\n",
      "15\n",
      "\n"
     ]
    },
    {
     "name": "stderr",
     "output_type": "stream",
     "text": [
      "/Users/vadimakhmetov/opt/anaconda3/lib/python3.8/site-packages/sklearn/datasets/_openml.py:417: UserWarning: Multiple active versions of the dataset matching the name climate-model-simulation-crashes exist. Versions may be fundamentally different, returning version 1.\n",
      "  warn(\n"
     ]
    },
    {
     "name": "stdout",
     "output_type": "stream",
     "text": [
      "16\n",
      "\n",
      "17\n",
      "\n"
     ]
    },
    {
     "name": "stderr",
     "output_type": "stream",
     "text": [
      "/Users/vadimakhmetov/opt/anaconda3/lib/python3.8/site-packages/sklearn/datasets/_openml.py:417: UserWarning: Multiple active versions of the dataset matching the name ilpd exist. Versions may be fundamentally different, returning version 1.\n",
      "  warn(\n"
     ]
    },
    {
     "name": "stdout",
     "output_type": "stream",
     "text": [
      "18\n",
      "\n",
      "19\n",
      "\n"
     ]
    },
    {
     "name": "stderr",
     "output_type": "stream",
     "text": [
      "/Users/vadimakhmetov/opt/anaconda3/lib/python3.8/site-packages/sklearn/datasets/_openml.py:417: UserWarning: Multiple active versions of the dataset matching the name electricity exist. Versions may be fundamentally different, returning version 1.\n",
      "  warn(\n"
     ]
    },
    {
     "name": "stdout",
     "output_type": "stream",
     "text": [
      "20\n",
      "\n",
      "21\n",
      "\n",
      "22\n",
      "\n"
     ]
    },
    {
     "name": "stderr",
     "output_type": "stream",
     "text": [
      "/Users/vadimakhmetov/opt/anaconda3/lib/python3.8/site-packages/sklearn/datasets/_openml.py:417: UserWarning: Multiple active versions of the dataset matching the name bank-marketing exist. Versions may be fundamentally different, returning version 1.\n",
      "  warn(\n"
     ]
    },
    {
     "name": "stdout",
     "output_type": "stream",
     "text": [
      "23\n",
      "\n"
     ]
    },
    {
     "name": "stderr",
     "output_type": "stream",
     "text": [
      "/Users/vadimakhmetov/opt/anaconda3/lib/python3.8/site-packages/sklearn/datasets/_openml.py:417: UserWarning: Multiple active versions of the dataset matching the name click_prediction_small exist. Versions may be fundamentally different, returning version 1.\n",
      "  warn(\n"
     ]
    },
    {
     "name": "stdout",
     "output_type": "stream",
     "text": [
      "24\n",
      "\n",
      "25\n",
      "\n",
      "26\n",
      "\n"
     ]
    },
    {
     "name": "stderr",
     "output_type": "stream",
     "text": [
      "/Users/vadimakhmetov/opt/anaconda3/lib/python3.8/site-packages/sklearn/datasets/_openml.py:417: UserWarning: Multiple active versions of the dataset matching the name amazon_employee_access exist. Versions may be fundamentally different, returning version 1.\n",
      "  warn(\n"
     ]
    },
    {
     "name": "stdout",
     "output_type": "stream",
     "text": [
      "27\n",
      "\n"
     ]
    },
    {
     "name": "stderr",
     "output_type": "stream",
     "text": [
      "/Users/vadimakhmetov/opt/anaconda3/lib/python3.8/site-packages/sklearn/datasets/_openml.py:417: UserWarning: Multiple active versions of the dataset matching the name speeddating exist. Versions may be fundamentally different, returning version 1.\n",
      "  warn(\n"
     ]
    },
    {
     "name": "stdout",
     "output_type": "stream",
     "text": [
      "28\n",
      "\n",
      "29\n",
      "\n",
      "30\n",
      "\n",
      "31\n",
      "\n"
     ]
    }
   ],
   "source": [
    "\n",
    "\n",
    "for i, dataset_name in enumerate(bin_class_dataset_names):\n",
    "    data = datasets.fetch_openml(dataset_name)\n",
    "    print(i)\n",
    "    print()"
   ]
  },
  {
   "cell_type": "code",
   "execution_count": null,
   "metadata": {},
   "outputs": [],
   "source": []
  }
 ],
 "metadata": {
  "kernelspec": {
   "display_name": "Python 3",
   "language": "python",
   "name": "python3"
  },
  "language_info": {
   "codemirror_mode": {
    "name": "ipython",
    "version": 3
   },
   "file_extension": ".py",
   "mimetype": "text/x-python",
   "name": "python",
   "nbconvert_exporter": "python",
   "pygments_lexer": "ipython3",
   "version": "3.8.5"
  }
 },
 "nbformat": 4,
 "nbformat_minor": 4
}

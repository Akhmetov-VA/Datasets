{
 "cells": [
  {
   "cell_type": "markdown",
   "metadata": {},
   "source": [
    "# Datasets"
   ]
  },
  {
   "cell_type": "code",
   "execution_count": 1,
   "metadata": {},
   "outputs": [],
   "source": [
    "import os\n",
    "from os.path import join\n",
    "\n",
    "import numpy as np\n",
    "import pandas as pd\n",
    "\n",
    "from sklearn import datasets"
   ]
  },
  {
   "cell_type": "code",
   "execution_count": 6,
   "metadata": {},
   "outputs": [],
   "source": [
    "def check_mkdir(path):\n",
    "    if not os.path.exists(path):\n",
    "        os.makedirs(path)\n",
    "    else:\n",
    "        print(f'{path} - already exist')"
   ]
  },
  {
   "cell_type": "code",
   "execution_count": 8,
   "metadata": {},
   "outputs": [],
   "source": [
    "base_path = ''"
   ]
  },
  {
   "cell_type": "markdown",
   "metadata": {},
   "source": [
    "## sklearn datasets"
   ]
  },
  {
   "cell_type": "code",
   "execution_count": 29,
   "metadata": {},
   "outputs": [],
   "source": [
    "from sklearn.model_selection import train_test_split"
   ]
  },
  {
   "cell_type": "code",
   "execution_count": 30,
   "metadata": {},
   "outputs": [],
   "source": [
    "sklearn_path = join(base_path, 'sklearn')"
   ]
  },
  {
   "cell_type": "code",
   "execution_count": 31,
   "metadata": {},
   "outputs": [],
   "source": [
    "dataset_path_pairs = [\n",
    "    (join(sklearn_path, 'breast_cancer'), datasets.load_breast_cancer(), 'breast_cancer.csv') ,\n",
    "    (join(sklearn_path, 'boston'), datasets.load_boston(), 'boston.csv'),\n",
    "    (join(sklearn_path, 'diabetes'), datasets.load_diabetes(), 'diabetes.csv'),\n",
    "    (join(sklearn_path, 'iris'), datasets.load_iris(), 'iris.csv'),\n",
    "    (join(sklearn_path, 'wine'), datasets.load_wine(), 'wine.csv'),\n",
    "]"
   ]
  },
  {
   "cell_type": "code",
   "execution_count": 32,
   "metadata": {},
   "outputs": [
    {
     "name": "stdout",
     "output_type": "stream",
     "text": [
      "sklearn/breast_cancer - already exist\n",
      "sklearn/breast_cancer\n",
      "sklearn/boston - already exist\n",
      "sklearn/boston\n",
      "sklearn/diabetes - already exist\n",
      "sklearn/diabetes\n",
      "sklearn/iris - already exist\n",
      "sklearn/iris\n",
      "sklearn/wine - already exist\n",
      "sklearn/wine\n"
     ]
    }
   ],
   "source": [
    "for path, data, filename in dataset_path_pairs:\n",
    "    check_mkdir(path)\n",
    "    \n",
    "    X_train, X_test, y_train, y_test = train_test_split(data['data'], data['target'], random_state=42)\n",
    "\n",
    "    df_train = pd.DataFrame(X_train, columns=data['feature_names'])\n",
    "    df_train['target'] = y_train\n",
    "\n",
    "    df_test = pd.DataFrame(X_test, columns=data['feature_names'])\n",
    "    df_test['target'] = y_test\n",
    "\n",
    "    df_train.to_csv(join(path, 'train_' + filename), index=False)\n",
    "    df_test.to_csv(join(path, 'test_' + filename), index=False)\n",
    "\n",
    "    with open(join(path, 'Readme.md'), 'w') as f:\n",
    "        f.write(data['DESCR'])\n",
    "    \n",
    "    print(path)\n"
   ]
  },
  {
   "cell_type": "markdown",
   "metadata": {},
   "source": [
    "## OpenML datasets"
   ]
  },
  {
   "cell_type": "code",
   "execution_count": 33,
   "metadata": {},
   "outputs": [],
   "source": [
    "openml_path = join(base_path, 'openml')"
   ]
  },
  {
   "cell_type": "markdown",
   "metadata": {},
   "source": [
    "### BinaryClassification"
   ]
  },
  {
   "cell_type": "code",
   "execution_count": 36,
   "metadata": {},
   "outputs": [],
   "source": [
    "bin_class_dataset_names = [\n",
    "    'credit-g', \n",
    "    'blood-transfusion-service-center', \n",
    "    'monks-problems-2',\n",
    "    'tic-tac-toe',\n",
    "    'monks-problems-1',\n",
    "    'steel-plates-fault',\n",
    "    'kr-vs-kp',\n",
    "    'qsar-biodeg',\n",
    "    'wdbc',\n",
    "    'phoneme',\n",
    "    'diabetes',\n",
    "    'ozone-level-8hr',\n",
    "    'hill-valley',\n",
    "    'kc1',\n",
    "    'kc2',\n",
    "    'eeg-eye-state',\n",
    "    'climate-model-simulation-crashes',\n",
    "    'spambase',\n",
    "    'ilpd',\n",
    "    'banknote-authentication',\n",
    "    'electricity',\n",
    "    'madelon',\n",
    "    'gina_agnostic',\n",
    "    'bank-marketing',\n",
    "    'Click_prediction_small',\n",
    "    'PhishingWebsites',\n",
    "    'Bioresponse',\n",
    "    'Amazon_employee_access',\n",
    "    'SpeedDating',\n",
    "    'credit-approval',\n",
    "    'irish',\n",
    "    'churn', \n",
    "]"
   ]
  },
  {
   "cell_type": "code",
   "execution_count": 37,
   "metadata": {},
   "outputs": [],
   "source": [
    "bin_class_path = join(openml_path, 'binary_classification')"
   ]
  },
  {
   "cell_type": "code",
   "execution_count": 38,
   "metadata": {},
   "outputs": [
    {
     "name": "stderr",
     "output_type": "stream",
     "text": [
      "/Users/vadimakhmetov/opt/anaconda3/lib/python3.8/site-packages/sklearn/datasets/_openml.py:417: UserWarning: Multiple active versions of the dataset matching the name credit-g exist. Versions may be fundamentally different, returning version 1.\n",
      "  warn(\n",
      "/Users/vadimakhmetov/opt/anaconda3/lib/python3.8/site-packages/sklearn/datasets/_openml.py:417: UserWarning: Multiple active versions of the dataset matching the name steel-plates-fault exist. Versions may be fundamentally different, returning version 1.\n",
      "  warn(\n"
     ]
    },
    {
     "name": "stdout",
     "output_type": "stream",
     "text": [
      "openml/binary_classification/credit-g\n",
      "openml/binary_classification/blood-transfusion-service-center\n",
      "openml/binary_classification/monks-problems-2\n",
      "openml/binary_classification/tic-tac-toe\n",
      "openml/binary_classification/monks-problems-1\n",
      "openml/binary_classification/steel-plates-fault\n",
      "openml/binary_classification/kr-vs-kp\n",
      "openml/binary_classification/qsar-biodeg\n",
      "openml/binary_classification/wdbc\n"
     ]
    },
    {
     "name": "stderr",
     "output_type": "stream",
     "text": [
      "/Users/vadimakhmetov/opt/anaconda3/lib/python3.8/site-packages/sklearn/datasets/_openml.py:417: UserWarning: Multiple active versions of the dataset matching the name phoneme exist. Versions may be fundamentally different, returning version 1.\n",
      "  warn(\n",
      "/Users/vadimakhmetov/opt/anaconda3/lib/python3.8/site-packages/sklearn/datasets/_openml.py:417: UserWarning: Multiple active versions of the dataset matching the name diabetes exist. Versions may be fundamentally different, returning version 1.\n",
      "  warn(\n"
     ]
    },
    {
     "name": "stdout",
     "output_type": "stream",
     "text": [
      "openml/binary_classification/phoneme\n",
      "openml/binary_classification/diabetes\n",
      "openml/binary_classification/ozone-level-8hr\n"
     ]
    },
    {
     "name": "stderr",
     "output_type": "stream",
     "text": [
      "/Users/vadimakhmetov/opt/anaconda3/lib/python3.8/site-packages/sklearn/datasets/_openml.py:417: UserWarning: Multiple active versions of the dataset matching the name hill-valley exist. Versions may be fundamentally different, returning version 1.\n",
      "  warn(\n"
     ]
    },
    {
     "name": "stdout",
     "output_type": "stream",
     "text": [
      "openml/binary_classification/hill-valley\n",
      "openml/binary_classification/kc1\n",
      "openml/binary_classification/kc2\n",
      "openml/binary_classification/eeg-eye-state\n",
      "openml/binary_classification/climate-model-simulation-crashes\n"
     ]
    },
    {
     "name": "stderr",
     "output_type": "stream",
     "text": [
      "/Users/vadimakhmetov/opt/anaconda3/lib/python3.8/site-packages/sklearn/datasets/_openml.py:417: UserWarning: Multiple active versions of the dataset matching the name climate-model-simulation-crashes exist. Versions may be fundamentally different, returning version 1.\n",
      "  warn(\n"
     ]
    },
    {
     "name": "stdout",
     "output_type": "stream",
     "text": [
      "openml/binary_classification/spambase\n",
      "openml/binary_classification/ilpd\n",
      "openml/binary_classification/banknote-authentication\n"
     ]
    },
    {
     "name": "stderr",
     "output_type": "stream",
     "text": [
      "/Users/vadimakhmetov/opt/anaconda3/lib/python3.8/site-packages/sklearn/datasets/_openml.py:417: UserWarning: Multiple active versions of the dataset matching the name ilpd exist. Versions may be fundamentally different, returning version 1.\n",
      "  warn(\n",
      "/Users/vadimakhmetov/opt/anaconda3/lib/python3.8/site-packages/sklearn/datasets/_openml.py:417: UserWarning: Multiple active versions of the dataset matching the name electricity exist. Versions may be fundamentally different, returning version 1.\n",
      "  warn(\n"
     ]
    },
    {
     "name": "stdout",
     "output_type": "stream",
     "text": [
      "openml/binary_classification/electricity\n",
      "openml/binary_classification/madelon\n",
      "openml/binary_classification/gina_agnostic\n"
     ]
    },
    {
     "name": "stderr",
     "output_type": "stream",
     "text": [
      "/Users/vadimakhmetov/opt/anaconda3/lib/python3.8/site-packages/sklearn/datasets/_openml.py:417: UserWarning: Multiple active versions of the dataset matching the name bank-marketing exist. Versions may be fundamentally different, returning version 1.\n",
      "  warn(\n"
     ]
    },
    {
     "name": "stdout",
     "output_type": "stream",
     "text": [
      "openml/binary_classification/bank-marketing\n"
     ]
    },
    {
     "name": "stderr",
     "output_type": "stream",
     "text": [
      "/Users/vadimakhmetov/opt/anaconda3/lib/python3.8/site-packages/sklearn/datasets/_openml.py:417: UserWarning: Multiple active versions of the dataset matching the name click_prediction_small exist. Versions may be fundamentally different, returning version 1.\n",
      "  warn(\n"
     ]
    },
    {
     "name": "stdout",
     "output_type": "stream",
     "text": [
      "openml/binary_classification/Click_prediction_small\n",
      "openml/binary_classification/PhishingWebsites\n",
      "openml/binary_classification/Bioresponse\n"
     ]
    },
    {
     "name": "stderr",
     "output_type": "stream",
     "text": [
      "/Users/vadimakhmetov/opt/anaconda3/lib/python3.8/site-packages/sklearn/datasets/_openml.py:417: UserWarning: Multiple active versions of the dataset matching the name amazon_employee_access exist. Versions may be fundamentally different, returning version 1.\n",
      "  warn(\n"
     ]
    },
    {
     "name": "stdout",
     "output_type": "stream",
     "text": [
      "openml/binary_classification/Amazon_employee_access\n"
     ]
    },
    {
     "name": "stderr",
     "output_type": "stream",
     "text": [
      "/Users/vadimakhmetov/opt/anaconda3/lib/python3.8/site-packages/sklearn/datasets/_openml.py:417: UserWarning: Multiple active versions of the dataset matching the name speeddating exist. Versions may be fundamentally different, returning version 1.\n",
      "  warn(\n"
     ]
    },
    {
     "name": "stdout",
     "output_type": "stream",
     "text": [
      "openml/binary_classification/SpeedDating\n",
      "openml/binary_classification/credit-approval\n",
      "openml/binary_classification/irish\n",
      "openml/binary_classification/churn\n"
     ]
    }
   ],
   "source": [
    "for data_name in bin_class_dataset_names:\n",
    "    data = datasets.fetch_openml(data_name)\n",
    "    \n",
    "    path = join(bin_class_path, data_name)\n",
    "    filename = data_name + '.csv'\n",
    "\n",
    "    check_mkdir(path)\n",
    "    \n",
    "    X_train, X_test, y_train, y_test = train_test_split(data['data'], data['target'], random_state=42)\n",
    "\n",
    "    df_train = pd.DataFrame(X_train, columns=data['feature_names'])\n",
    "    df_train['target'] = y_train\n",
    "\n",
    "    df_test = pd.DataFrame(X_test, columns=data['feature_names'])\n",
    "    df_test['target'] = y_test\n",
    "\n",
    "    df_train.to_csv(join(path, 'train_' + filename), index=False)\n",
    "    df_test.to_csv(join(path, 'test_' + filename), index=False)\n",
    "\n",
    "    with open(join(path, 'Readme.md'), 'w') as f:\n",
    "        f.write(data['DESCR'])\n",
    "    \n",
    "    print(path)"
   ]
  },
  {
   "cell_type": "code",
   "execution_count": null,
   "metadata": {},
   "outputs": [],
   "source": []
  },
  {
   "cell_type": "markdown",
   "metadata": {},
   "source": [
    "### Regression"
   ]
  },
  {
   "cell_type": "code",
   "execution_count": 44,
   "metadata": {},
   "outputs": [],
   "source": [
    "regression_dataset_names = [\n",
    "    'cholesterol', \n",
    "    'cloud',\n",
    "    'analcatdata_negotiation',\n",
    "    'meta',\n",
    "    'bodyfat',\n",
    "    'CPMP-2015-regression',\n",
    "    'kin8nm',\n",
    "    'plasma_retinol',\n",
    "    'auto_price',\n",
    "    'topo_2_1',\n",
    "    'mv',\n",
    "    'puma8NH',\n",
    "]"
   ]
  },
  {
   "cell_type": "code",
   "execution_count": 45,
   "metadata": {},
   "outputs": [],
   "source": [
    "bin_class_path = join(openml_path, 'regression')"
   ]
  },
  {
   "cell_type": "code",
   "execution_count": 46,
   "metadata": {},
   "outputs": [
    {
     "name": "stderr",
     "output_type": "stream",
     "text": [
      "/Users/vadimakhmetov/opt/anaconda3/lib/python3.8/site-packages/sklearn/datasets/_openml.py:417: UserWarning: Multiple active versions of the dataset matching the name cholesterol exist. Versions may be fundamentally different, returning version 1.\n",
      "  warn(\n"
     ]
    },
    {
     "name": "stdout",
     "output_type": "stream",
     "text": [
      "openml/regression/cholesterol\n"
     ]
    },
    {
     "name": "stderr",
     "output_type": "stream",
     "text": [
      "/Users/vadimakhmetov/opt/anaconda3/lib/python3.8/site-packages/sklearn/datasets/_openml.py:417: UserWarning: Multiple active versions of the dataset matching the name cloud exist. Versions may be fundamentally different, returning version 1.\n",
      "  warn(\n"
     ]
    },
    {
     "name": "stdout",
     "output_type": "stream",
     "text": [
      "openml/regression/cloud\n"
     ]
    },
    {
     "name": "stderr",
     "output_type": "stream",
     "text": [
      "/Users/vadimakhmetov/opt/anaconda3/lib/python3.8/site-packages/sklearn/datasets/_openml.py:417: UserWarning: Multiple active versions of the dataset matching the name analcatdata_negotiation exist. Versions may be fundamentally different, returning version 1.\n",
      "  warn(\n"
     ]
    },
    {
     "name": "stdout",
     "output_type": "stream",
     "text": [
      "openml/regression/analcatdata_negotiation\n"
     ]
    },
    {
     "name": "stderr",
     "output_type": "stream",
     "text": [
      "/Users/vadimakhmetov/opt/anaconda3/lib/python3.8/site-packages/sklearn/datasets/_openml.py:417: UserWarning: Multiple active versions of the dataset matching the name meta exist. Versions may be fundamentally different, returning version 1.\n",
      "  warn(\n"
     ]
    },
    {
     "name": "stdout",
     "output_type": "stream",
     "text": [
      "openml/regression/meta\n"
     ]
    },
    {
     "name": "stderr",
     "output_type": "stream",
     "text": [
      "/Users/vadimakhmetov/opt/anaconda3/lib/python3.8/site-packages/sklearn/datasets/_openml.py:417: UserWarning: Multiple active versions of the dataset matching the name bodyfat exist. Versions may be fundamentally different, returning version 1.\n",
      "  warn(\n"
     ]
    },
    {
     "name": "stdout",
     "output_type": "stream",
     "text": [
      "openml/regression/bodyfat\n",
      "openml/regression/CPMP-2015-regression\n"
     ]
    },
    {
     "name": "stderr",
     "output_type": "stream",
     "text": [
      "/Users/vadimakhmetov/opt/anaconda3/lib/python3.8/site-packages/sklearn/datasets/_openml.py:417: UserWarning: Multiple active versions of the dataset matching the name kin8nm exist. Versions may be fundamentally different, returning version 1.\n",
      "  warn(\n"
     ]
    },
    {
     "name": "stdout",
     "output_type": "stream",
     "text": [
      "openml/regression/kin8nm\n"
     ]
    },
    {
     "name": "stderr",
     "output_type": "stream",
     "text": [
      "/Users/vadimakhmetov/opt/anaconda3/lib/python3.8/site-packages/sklearn/datasets/_openml.py:417: UserWarning: Multiple active versions of the dataset matching the name plasma_retinol exist. Versions may be fundamentally different, returning version 1.\n",
      "  warn(\n"
     ]
    },
    {
     "name": "stdout",
     "output_type": "stream",
     "text": [
      "openml/regression/plasma_retinol\n"
     ]
    },
    {
     "name": "stderr",
     "output_type": "stream",
     "text": [
      "/Users/vadimakhmetov/opt/anaconda3/lib/python3.8/site-packages/sklearn/datasets/_openml.py:417: UserWarning: Multiple active versions of the dataset matching the name auto_price exist. Versions may be fundamentally different, returning version 1.\n",
      "  warn(\n"
     ]
    },
    {
     "name": "stdout",
     "output_type": "stream",
     "text": [
      "openml/regression/auto_price\n",
      "openml/regression/topo_2_1\n"
     ]
    },
    {
     "name": "stderr",
     "output_type": "stream",
     "text": [
      "/Users/vadimakhmetov/opt/anaconda3/lib/python3.8/site-packages/sklearn/datasets/_openml.py:417: UserWarning: Multiple active versions of the dataset matching the name mv exist. Versions may be fundamentally different, returning version 1.\n",
      "  warn(\n"
     ]
    },
    {
     "name": "stdout",
     "output_type": "stream",
     "text": [
      "openml/regression/mv\n"
     ]
    },
    {
     "name": "stderr",
     "output_type": "stream",
     "text": [
      "/Users/vadimakhmetov/opt/anaconda3/lib/python3.8/site-packages/sklearn/datasets/_openml.py:417: UserWarning: Multiple active versions of the dataset matching the name puma8nh exist. Versions may be fundamentally different, returning version 1.\n",
      "  warn(\n"
     ]
    },
    {
     "name": "stdout",
     "output_type": "stream",
     "text": [
      "openml/regression/puma8NH\n"
     ]
    }
   ],
   "source": [
    "for data_name in regression_dataset_names:\n",
    "    data = datasets.fetch_openml(data_name)\n",
    "    \n",
    "    path = join(bin_class_path, data_name)\n",
    "    filename = data_name + '.csv'\n",
    "\n",
    "    check_mkdir(path)\n",
    "    \n",
    "    X_train, X_test, y_train, y_test = train_test_split(data['data'], data['target'], random_state=42)\n",
    "\n",
    "    df_train = pd.DataFrame(X_train, columns=data['feature_names'])\n",
    "    df_train['target'] = y_train\n",
    "\n",
    "    df_test = pd.DataFrame(X_test, columns=data['feature_names'])\n",
    "    df_test['target'] = y_test\n",
    "\n",
    "    df_train.to_csv(join(path, 'train_' + filename), index=False)\n",
    "    df_test.to_csv(join(path, 'test_' + filename), index=False)\n",
    "\n",
    "    with open(join(path, 'Readme.md'), 'w') as f:\n",
    "        f.write(data['DESCR'])\n",
    "    \n",
    "    print(path)"
   ]
  },
  {
   "cell_type": "markdown",
   "metadata": {},
   "source": [
    "### MulticlassClassification"
   ]
  },
  {
   "cell_type": "code",
   "execution_count": 47,
   "metadata": {},
   "outputs": [],
   "source": [
    "multiclass_dataset_names = [\n",
    "    'pbc',\n",
    "    'liver-disorders', \n",
    "    'cleveland',\n",
    "    'analcatdata_gsssexsurvey',\n",
    "    'chscase_foot',\n",
    "    'cpu_small',\n",
    "    'pol',\n",
    "]"
   ]
  },
  {
   "cell_type": "code",
   "execution_count": 48,
   "metadata": {},
   "outputs": [],
   "source": [
    "bin_class_path = join(openml_path, 'multiclass')"
   ]
  },
  {
   "cell_type": "code",
   "execution_count": 49,
   "metadata": {},
   "outputs": [
    {
     "name": "stderr",
     "output_type": "stream",
     "text": [
      "/Users/vadimakhmetov/opt/anaconda3/lib/python3.8/site-packages/sklearn/datasets/_openml.py:417: UserWarning: Multiple active versions of the dataset matching the name pbc exist. Versions may be fundamentally different, returning version 1.\n",
      "  warn(\n"
     ]
    },
    {
     "name": "stdout",
     "output_type": "stream",
     "text": [
      "openml/multiclass/pbc\n",
      "openml/multiclass/liver-disorders\n"
     ]
    },
    {
     "name": "stderr",
     "output_type": "stream",
     "text": [
      "/Users/vadimakhmetov/opt/anaconda3/lib/python3.8/site-packages/sklearn/datasets/_openml.py:417: UserWarning: Multiple active versions of the dataset matching the name cleveland exist. Versions may be fundamentally different, returning version 1.\n",
      "  warn(\n"
     ]
    },
    {
     "name": "stdout",
     "output_type": "stream",
     "text": [
      "openml/multiclass/cleveland\n"
     ]
    },
    {
     "name": "stderr",
     "output_type": "stream",
     "text": [
      "/Users/vadimakhmetov/opt/anaconda3/lib/python3.8/site-packages/sklearn/datasets/_openml.py:417: UserWarning: Multiple active versions of the dataset matching the name analcatdata_gsssexsurvey exist. Versions may be fundamentally different, returning version 1.\n",
      "  warn(\n"
     ]
    },
    {
     "name": "stdout",
     "output_type": "stream",
     "text": [
      "openml/multiclass/analcatdata_gsssexsurvey\n",
      "openml/multiclass/chscase_foot\n"
     ]
    },
    {
     "name": "stderr",
     "output_type": "stream",
     "text": [
      "/Users/vadimakhmetov/opt/anaconda3/lib/python3.8/site-packages/sklearn/datasets/_openml.py:417: UserWarning: Multiple active versions of the dataset matching the name cpu_small exist. Versions may be fundamentally different, returning version 1.\n",
      "  warn(\n"
     ]
    },
    {
     "name": "stdout",
     "output_type": "stream",
     "text": [
      "openml/multiclass/cpu_small\n"
     ]
    },
    {
     "name": "stderr",
     "output_type": "stream",
     "text": [
      "/Users/vadimakhmetov/opt/anaconda3/lib/python3.8/site-packages/sklearn/datasets/_openml.py:417: UserWarning: Multiple active versions of the dataset matching the name pol exist. Versions may be fundamentally different, returning version 1.\n",
      "  warn(\n"
     ]
    },
    {
     "name": "stdout",
     "output_type": "stream",
     "text": [
      "openml/multiclass/pol\n"
     ]
    }
   ],
   "source": [
    "for data_name in multiclass_dataset_names:\n",
    "    data = datasets.fetch_openml(data_name)\n",
    "    \n",
    "    path = join(bin_class_path, data_name)\n",
    "    filename = data_name + '.csv'\n",
    "\n",
    "    check_mkdir(path)\n",
    "    \n",
    "    X_train, X_test, y_train, y_test = train_test_split(data['data'], data['target'], random_state=42)\n",
    "\n",
    "    df_train = pd.DataFrame(X_train, columns=data['feature_names'])\n",
    "    df_train['target'] = y_train\n",
    "\n",
    "    df_test = pd.DataFrame(X_test, columns=data['feature_names'])\n",
    "    df_test['target'] = y_test\n",
    "\n",
    "    df_train.to_csv(join(path, 'train_' + filename), index=False)\n",
    "    df_test.to_csv(join(path, 'test_' + filename), index=False)\n",
    "\n",
    "    with open(join(path, 'Readme.md'), 'w') as f:\n",
    "        f.write(data['DESCR'])\n",
    "    \n",
    "    print(path)"
   ]
  },
  {
   "cell_type": "markdown",
   "metadata": {},
   "source": [
    "## Kaggle"
   ]
  },
  {
   "cell_type": "markdown",
   "metadata": {},
   "source": [
    "Для скачивания нужно использовать kaggle api токен получаемые в аккаунте"
   ]
  },
  {
   "cell_type": "code",
   "execution_count": 51,
   "metadata": {},
   "outputs": [
    {
     "name": "stdout",
     "output_type": "stream",
     "text": [
      "Note: you may need to restart the kernel to use updated packages.\n"
     ]
    }
   ],
   "source": [
    "pip install -q kaggle"
   ]
  },
  {
   "cell_type": "code",
   "execution_count": 52,
   "metadata": {},
   "outputs": [],
   "source": [
    "!mkdir -p ~/.kaggle"
   ]
  },
  {
   "cell_type": "code",
   "execution_count": 53,
   "metadata": {},
   "outputs": [],
   "source": [
    "!cp kaggle.json ~/.kaggle/"
   ]
  },
  {
   "cell_type": "code",
   "execution_count": 57,
   "metadata": {},
   "outputs": [],
   "source": [
    "!chmod 600 ~/.kaggle/kaggle.json"
   ]
  },
  {
   "cell_type": "code",
   "execution_count": 59,
   "metadata": {},
   "outputs": [
    {
     "name": "stdout",
     "output_type": "stream",
     "text": [
      "ref                                                             title                                       size  lastUpdated          downloadCount  voteCount  usabilityRating  \r\n",
      "--------------------------------------------------------------  -----------------------------------------  -----  -------------------  -------------  ---------  ---------------  \r\n",
      "akshaydattatraykhare/diabetes-dataset                           Diabetes Dataset                             9KB  2022-10-06 08:55:25          13228        412  1.0              \r\n",
      "whenamancodes/covid-19-coronavirus-pandemic-dataset             COVID -19 Coronavirus Pandemic Dataset      11KB  2022-09-30 04:05:11          10445        325  1.0              \r\n",
      "thedevastator/240000-household-electricity-consumption-records  Household Electricity Consumption            3MB  2022-10-24 01:22:40            886         28  1.0              \r\n",
      "akshaydattatraykhare/data-for-admission-in-the-university       Data for Admission in the University         4KB  2022-10-27 11:05:45           2782         64  1.0              \r\n",
      "whenamancodes/credit-card-customers-prediction                  Credit Card Customers Prediction           379KB  2022-10-30 13:03:27           2066         52  1.0              \r\n",
      "thedevastator/latest-licensed-playstation-games-in-japan        PlayStation Games                           53KB  2022-11-09 02:51:20            457         25  0.9411765        \r\n",
      "hasibalmuzdadid/global-air-pollution-dataset                    Global Air Pollution Dataset               371KB  2022-11-08 14:43:32           1567         52  1.0              \r\n",
      "whenamancodes/world-happiness-report                            He..He..He... World Happiness Report 2022  120KB  2022-10-26 09:28:48            696         26  1.0              \r\n",
      "maharshipandya/-spotify-tracks-dataset                          🎹 Spotify Tracks Dataset                     8MB  2022-10-22 14:40:15           2774         88  1.0              \r\n",
      "whenamancodes/students-performance-in-exams                     Students Performance in Exams                9KB  2022-09-14 15:14:54          17383        326  1.0              \r\n",
      "whenamancodes/predict-diabities                                 Predict Diabetes                             9KB  2022-11-09 12:18:49           1070         30  1.0              \r\n",
      "iamsouravbanerjee/game-of-thrones-dataset                       Game of Thrones Dataset                     33KB  2022-11-10 11:41:21            285         28  1.0              \r\n",
      "jalota/books-dataset                                            Books_dataset                              537KB  2022-11-02 21:02:48            777         23  1.0              \r\n",
      "stetsondone/video-game-sales-by-genre                           Video Game Sales by Genre                   12KB  2022-10-31 17:56:01           1156         28  1.0              \r\n",
      "marta99/elon-musks-tweets-dataset-2022                          Elon Musk's Tweets Dataset 2022            293KB  2022-10-27 19:10:46            502         27  1.0              \r\n",
      "akshaydattatraykhare/car-details-dataset                        Car Details Dataset                         56KB  2022-10-21 06:11:56           3161         55  1.0              \r\n",
      "cedricaubin/ai-ml-salaries                                      AI/ML Salaries                              11KB  2022-11-06 11:20:31            455         24  1.0              \r\n",
      "thedevastator/predicting-job-titles-from-resumes                Predicting Job Titles from Resumes          40KB  2022-11-05 10:23:35            661         26  1.0              \r\n",
      "rishikeshkonapure/zomato                                        Zomato                                      89MB  2022-10-29 06:56:33            774         32  1.0              \r\n",
      "maharshipandya/-cryptocurrency-historical-prices-dataset        🪙 Cryptocurrency Prices Data                 3MB  2022-10-26 05:28:27            807         30  0.9411765        \r\n"
     ]
    }
   ],
   "source": [
    "!kaggle datasets list"
   ]
  },
  {
   "cell_type": "code",
   "execution_count": null,
   "metadata": {},
   "outputs": [],
   "source": [
    "!kaggle datasets download -d "
   ]
  },
  {
   "cell_type": "markdown",
   "metadata": {},
   "source": [
    "### BinaryClassification"
   ]
  },
  {
   "cell_type": "code",
   "execution_count": null,
   "metadata": {},
   "outputs": [],
   "source": []
  }
 ],
 "metadata": {
  "kernelspec": {
   "display_name": "Python 3",
   "language": "python",
   "name": "python3"
  },
  "language_info": {
   "codemirror_mode": {
    "name": "ipython",
    "version": 3
   },
   "file_extension": ".py",
   "mimetype": "text/x-python",
   "name": "python",
   "nbconvert_exporter": "python",
   "pygments_lexer": "ipython3",
   "version": "3.8.5"
  }
 },
 "nbformat": 4,
 "nbformat_minor": 4
}
